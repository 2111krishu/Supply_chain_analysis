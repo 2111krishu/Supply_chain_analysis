{
 "cells": [
  {
   "cell_type": "code",
   "execution_count": 1,
   "id": "9dfd5f32",
   "metadata": {},
   "outputs": [],
   "source": [
    "import pandas as pd \n",
    "import numpy as np"
   ]
  },
  {
   "cell_type": "code",
   "execution_count": 2,
   "id": "c56de49b",
   "metadata": {},
   "outputs": [],
   "source": [
    "df = pd.read_csv(\"C:\\\\Users\\\\KHAN\\\\Downloads\\\\supply_chain_data.csv\")\n"
   ]
  },
  {
   "cell_type": "code",
   "execution_count": 3,
   "id": "6b0356fd",
   "metadata": {},
   "outputs": [
    {
     "data": {
      "text/html": [
       "<div>\n",
       "<style scoped>\n",
       "    .dataframe tbody tr th:only-of-type {\n",
       "        vertical-align: middle;\n",
       "    }\n",
       "\n",
       "    .dataframe tbody tr th {\n",
       "        vertical-align: top;\n",
       "    }\n",
       "\n",
       "    .dataframe thead th {\n",
       "        text-align: right;\n",
       "    }\n",
       "</style>\n",
       "<table border=\"1\" class=\"dataframe\">\n",
       "  <thead>\n",
       "    <tr style=\"text-align: right;\">\n",
       "      <th></th>\n",
       "      <th>Product type</th>\n",
       "      <th>SKU</th>\n",
       "      <th>Price</th>\n",
       "      <th>Availability</th>\n",
       "      <th>Number of products sold</th>\n",
       "      <th>Revenue generated</th>\n",
       "      <th>Customer demographics</th>\n",
       "      <th>Stock levels</th>\n",
       "      <th>Lead times</th>\n",
       "      <th>Order quantities</th>\n",
       "      <th>...</th>\n",
       "      <th>Location</th>\n",
       "      <th>Lead time</th>\n",
       "      <th>Production volumes</th>\n",
       "      <th>Manufacturing lead time</th>\n",
       "      <th>Manufacturing costs</th>\n",
       "      <th>Inspection results</th>\n",
       "      <th>Defect rates</th>\n",
       "      <th>Transportation modes</th>\n",
       "      <th>Routes</th>\n",
       "      <th>Costs</th>\n",
       "    </tr>\n",
       "  </thead>\n",
       "  <tbody>\n",
       "    <tr>\n",
       "      <th>0</th>\n",
       "      <td>haircare</td>\n",
       "      <td>SKU0</td>\n",
       "      <td>69.808006</td>\n",
       "      <td>55</td>\n",
       "      <td>802</td>\n",
       "      <td>8661.996792</td>\n",
       "      <td>Non-binary</td>\n",
       "      <td>58</td>\n",
       "      <td>7</td>\n",
       "      <td>96</td>\n",
       "      <td>...</td>\n",
       "      <td>Mumbai</td>\n",
       "      <td>29</td>\n",
       "      <td>215</td>\n",
       "      <td>29</td>\n",
       "      <td>46.279879</td>\n",
       "      <td>Pending</td>\n",
       "      <td>0.226410</td>\n",
       "      <td>Road</td>\n",
       "      <td>Route B</td>\n",
       "      <td>187.752075</td>\n",
       "    </tr>\n",
       "    <tr>\n",
       "      <th>1</th>\n",
       "      <td>skincare</td>\n",
       "      <td>SKU1</td>\n",
       "      <td>14.843523</td>\n",
       "      <td>95</td>\n",
       "      <td>736</td>\n",
       "      <td>7460.900065</td>\n",
       "      <td>Female</td>\n",
       "      <td>53</td>\n",
       "      <td>30</td>\n",
       "      <td>37</td>\n",
       "      <td>...</td>\n",
       "      <td>Mumbai</td>\n",
       "      <td>23</td>\n",
       "      <td>517</td>\n",
       "      <td>30</td>\n",
       "      <td>33.616769</td>\n",
       "      <td>Pending</td>\n",
       "      <td>4.854068</td>\n",
       "      <td>Road</td>\n",
       "      <td>Route B</td>\n",
       "      <td>503.065579</td>\n",
       "    </tr>\n",
       "    <tr>\n",
       "      <th>2</th>\n",
       "      <td>haircare</td>\n",
       "      <td>SKU2</td>\n",
       "      <td>11.319683</td>\n",
       "      <td>34</td>\n",
       "      <td>8</td>\n",
       "      <td>9577.749626</td>\n",
       "      <td>Unknown</td>\n",
       "      <td>1</td>\n",
       "      <td>10</td>\n",
       "      <td>88</td>\n",
       "      <td>...</td>\n",
       "      <td>Mumbai</td>\n",
       "      <td>12</td>\n",
       "      <td>971</td>\n",
       "      <td>27</td>\n",
       "      <td>30.688019</td>\n",
       "      <td>Pending</td>\n",
       "      <td>4.580593</td>\n",
       "      <td>Air</td>\n",
       "      <td>Route C</td>\n",
       "      <td>141.920282</td>\n",
       "    </tr>\n",
       "    <tr>\n",
       "      <th>3</th>\n",
       "      <td>skincare</td>\n",
       "      <td>SKU3</td>\n",
       "      <td>61.163343</td>\n",
       "      <td>68</td>\n",
       "      <td>83</td>\n",
       "      <td>7766.836426</td>\n",
       "      <td>Non-binary</td>\n",
       "      <td>23</td>\n",
       "      <td>13</td>\n",
       "      <td>59</td>\n",
       "      <td>...</td>\n",
       "      <td>Kolkata</td>\n",
       "      <td>24</td>\n",
       "      <td>937</td>\n",
       "      <td>18</td>\n",
       "      <td>35.624741</td>\n",
       "      <td>Fail</td>\n",
       "      <td>4.746649</td>\n",
       "      <td>Rail</td>\n",
       "      <td>Route A</td>\n",
       "      <td>254.776159</td>\n",
       "    </tr>\n",
       "    <tr>\n",
       "      <th>4</th>\n",
       "      <td>skincare</td>\n",
       "      <td>SKU4</td>\n",
       "      <td>4.805496</td>\n",
       "      <td>26</td>\n",
       "      <td>871</td>\n",
       "      <td>2686.505152</td>\n",
       "      <td>Non-binary</td>\n",
       "      <td>5</td>\n",
       "      <td>3</td>\n",
       "      <td>56</td>\n",
       "      <td>...</td>\n",
       "      <td>Delhi</td>\n",
       "      <td>5</td>\n",
       "      <td>414</td>\n",
       "      <td>3</td>\n",
       "      <td>92.065161</td>\n",
       "      <td>Fail</td>\n",
       "      <td>3.145580</td>\n",
       "      <td>Air</td>\n",
       "      <td>Route A</td>\n",
       "      <td>923.440632</td>\n",
       "    </tr>\n",
       "  </tbody>\n",
       "</table>\n",
       "<p>5 rows × 24 columns</p>\n",
       "</div>"
      ],
      "text/plain": [
       "  Product type   SKU      Price  Availability  Number of products sold  \\\n",
       "0     haircare  SKU0  69.808006            55                      802   \n",
       "1     skincare  SKU1  14.843523            95                      736   \n",
       "2     haircare  SKU2  11.319683            34                        8   \n",
       "3     skincare  SKU3  61.163343            68                       83   \n",
       "4     skincare  SKU4   4.805496            26                      871   \n",
       "\n",
       "   Revenue generated Customer demographics  Stock levels  Lead times  \\\n",
       "0        8661.996792            Non-binary            58           7   \n",
       "1        7460.900065                Female            53          30   \n",
       "2        9577.749626               Unknown             1          10   \n",
       "3        7766.836426            Non-binary            23          13   \n",
       "4        2686.505152            Non-binary             5           3   \n",
       "\n",
       "   Order quantities  ...  Location Lead time  Production volumes  \\\n",
       "0                96  ...    Mumbai        29                 215   \n",
       "1                37  ...    Mumbai        23                 517   \n",
       "2                88  ...    Mumbai        12                 971   \n",
       "3                59  ...   Kolkata        24                 937   \n",
       "4                56  ...     Delhi         5                 414   \n",
       "\n",
       "  Manufacturing lead time Manufacturing costs  Inspection results  \\\n",
       "0                      29           46.279879             Pending   \n",
       "1                      30           33.616769             Pending   \n",
       "2                      27           30.688019             Pending   \n",
       "3                      18           35.624741                Fail   \n",
       "4                       3           92.065161                Fail   \n",
       "\n",
       "   Defect rates  Transportation modes   Routes       Costs  \n",
       "0      0.226410                  Road  Route B  187.752075  \n",
       "1      4.854068                  Road  Route B  503.065579  \n",
       "2      4.580593                   Air  Route C  141.920282  \n",
       "3      4.746649                  Rail  Route A  254.776159  \n",
       "4      3.145580                   Air  Route A  923.440632  \n",
       "\n",
       "[5 rows x 24 columns]"
      ]
     },
     "execution_count": 3,
     "metadata": {},
     "output_type": "execute_result"
    }
   ],
   "source": [
    "df.head()\n"
   ]
  },
  {
   "cell_type": "code",
   "execution_count": 4,
   "id": "90ec573a",
   "metadata": {},
   "outputs": [
    {
     "name": "stdout",
     "output_type": "stream",
     "text": [
      "<class 'pandas.core.frame.DataFrame'>\n",
      "RangeIndex: 100 entries, 0 to 99\n",
      "Data columns (total 24 columns):\n",
      " #   Column                   Non-Null Count  Dtype  \n",
      "---  ------                   --------------  -----  \n",
      " 0   Product type             100 non-null    object \n",
      " 1   SKU                      100 non-null    object \n",
      " 2   Price                    100 non-null    float64\n",
      " 3   Availability             100 non-null    int64  \n",
      " 4   Number of products sold  100 non-null    int64  \n",
      " 5   Revenue generated        100 non-null    float64\n",
      " 6   Customer demographics    100 non-null    object \n",
      " 7   Stock levels             100 non-null    int64  \n",
      " 8   Lead times               100 non-null    int64  \n",
      " 9   Order quantities         100 non-null    int64  \n",
      " 10  Shipping times           100 non-null    int64  \n",
      " 11  Shipping carriers        100 non-null    object \n",
      " 12  Shipping costs           100 non-null    float64\n",
      " 13  Supplier name            100 non-null    object \n",
      " 14  Location                 100 non-null    object \n",
      " 15  Lead time                100 non-null    int64  \n",
      " 16  Production volumes       100 non-null    int64  \n",
      " 17  Manufacturing lead time  100 non-null    int64  \n",
      " 18  Manufacturing costs      100 non-null    float64\n",
      " 19  Inspection results       100 non-null    object \n",
      " 20  Defect rates             100 non-null    float64\n",
      " 21  Transportation modes     100 non-null    object \n",
      " 22  Routes                   100 non-null    object \n",
      " 23  Costs                    100 non-null    float64\n",
      "dtypes: float64(6), int64(9), object(9)\n",
      "memory usage: 18.9+ KB\n"
     ]
    },
    {
     "data": {
      "text/plain": [
       "Product type               0\n",
       "SKU                        0\n",
       "Price                      0\n",
       "Availability               0\n",
       "Number of products sold    0\n",
       "Revenue generated          0\n",
       "Customer demographics      0\n",
       "Stock levels               0\n",
       "Lead times                 0\n",
       "Order quantities           0\n",
       "Shipping times             0\n",
       "Shipping carriers          0\n",
       "Shipping costs             0\n",
       "Supplier name              0\n",
       "Location                   0\n",
       "Lead time                  0\n",
       "Production volumes         0\n",
       "Manufacturing lead time    0\n",
       "Manufacturing costs        0\n",
       "Inspection results         0\n",
       "Defect rates               0\n",
       "Transportation modes       0\n",
       "Routes                     0\n",
       "Costs                      0\n",
       "dtype: int64"
      ]
     },
     "execution_count": 4,
     "metadata": {},
     "output_type": "execute_result"
    }
   ],
   "source": [
    "df.info()\n",
    "\n",
    "# Check for missing values\n",
    "df.isnull().sum()\n"
   ]
  },
  {
   "cell_type": "code",
   "execution_count": 5,
   "id": "daa00d0c",
   "metadata": {},
   "outputs": [],
   "source": [
    "# Convert column names to snake_case\n",
    "df.columns = df.columns.str.strip().str.lower().str.replace(\" \", \"_\")\n"
   ]
  },
  {
   "cell_type": "markdown",
   "id": "e7e7b50a",
   "metadata": {},
   "source": [
    "# Create Structured Datasets"
   ]
  },
  {
   "cell_type": "markdown",
   "id": "752a9fd4",
   "metadata": {},
   "source": [
    " Inventory Data"
   ]
  },
  {
   "cell_type": "code",
   "execution_count": 6,
   "id": "085f7a79",
   "metadata": {},
   "outputs": [],
   "source": [
    "inventory_df = df[[\n",
    "    'sku', 'product_type', 'price', 'availability',\n",
    "    'stock_levels', 'lead_times', 'revenue_generated',\n",
    "    'number_of_products_sold'\n",
    "]]\n"
   ]
  },
  {
   "cell_type": "markdown",
   "id": "9b284992",
   "metadata": {},
   "source": [
    "Order Fulfillment Data"
   ]
  },
  {
   "cell_type": "code",
   "execution_count": 7,
   "id": "ada21926",
   "metadata": {},
   "outputs": [],
   "source": [
    "order_df = df[[\n",
    "    'sku', 'order_quantities', 'number_of_products_sold',\n",
    "    'shipping_times', 'availability'\n",
    "]].copy()\n",
    "\n",
    "# Add a column for on-time delivery (assuming ≤ 3 days is on-time)\n",
    "order_df['on_time_delivery'] = order_df['shipping_times'].apply(lambda x: 'Yes' if x <= 3 else 'No')\n"
   ]
  },
  {
   "cell_type": "markdown",
   "id": "ca052de1",
   "metadata": {},
   "source": [
    "Supplier Performance Data"
   ]
  },
  {
   "cell_type": "code",
   "execution_count": 8,
   "id": "a385cadb",
   "metadata": {},
   "outputs": [],
   "source": [
    "supplier_df = df[[\n",
    "    'sku', 'supplier_name', 'location', 'lead_time',\n",
    "    'defect_rates', 'production_volumes',\n",
    "    'manufacturing_lead_time', 'manufacturing_costs',\n",
    "    'inspection_results'\n",
    "]]\n"
   ]
  },
  {
   "cell_type": "markdown",
   "id": "a0830068",
   "metadata": {},
   "source": [
    "Transportation Data"
   ]
  },
  {
   "cell_type": "code",
   "execution_count": 9,
   "id": "8a6017ec",
   "metadata": {},
   "outputs": [],
   "source": [
    "transport_df = df[[\n",
    "    'sku', 'shipping_carriers', 'shipping_times',\n",
    "    'transportation_modes', 'routes', 'shipping_costs'\n",
    "]]\n"
   ]
  },
  {
   "cell_type": "markdown",
   "id": "66517e12",
   "metadata": {},
   "source": [
    "Cost Data"
   ]
  },
  {
   "cell_type": "code",
   "execution_count": 10,
   "id": "54c6e97c",
   "metadata": {},
   "outputs": [],
   "source": [
    "cost_df = df[[\n",
    "    'sku', 'costs', 'manufacturing_costs', 'shipping_costs'\n",
    "]]\n"
   ]
  },
  {
   "cell_type": "markdown",
   "id": "0aafcb8a",
   "metadata": {},
   "source": [
    "Export the Cleaned Files"
   ]
  },
  {
   "cell_type": "code",
   "execution_count": 11,
   "id": "fdd3d85a",
   "metadata": {},
   "outputs": [],
   "source": [
    "inventory_df.to_csv(\"inventory_data.csv\", index=False)\n",
    "order_df.to_csv(\"order_data.csv\", index=False)\n",
    "supplier_df.to_csv(\"supplier_data.csv\", index=False)\n",
    "transport_df.to_csv(\"transport_data.csv\", index=False)\n",
    "cost_df.to_csv(\"cost_data.csv\", index=False)\n"
   ]
  },
  {
   "cell_type": "code",
   "execution_count": null,
   "id": "db8c1f92",
   "metadata": {},
   "outputs": [],
   "source": []
  },
  {
   "cell_type": "code",
   "execution_count": null,
   "id": "4d86d715",
   "metadata": {},
   "outputs": [],
   "source": []
  },
  {
   "cell_type": "code",
   "execution_count": null,
   "id": "79c75fac",
   "metadata": {},
   "outputs": [],
   "source": []
  },
  {
   "cell_type": "code",
   "execution_count": 13,
   "id": "0b6bf877",
   "metadata": {},
   "outputs": [],
   "source": [
    "import pandas as pd\n",
    "import numpy as np\n"
   ]
  },
  {
   "cell_type": "code",
   "execution_count": 14,
   "id": "ecff865d",
   "metadata": {},
   "outputs": [],
   "source": [
    "\n",
    "inventory_df = pd.read_csv(\"C:\\\\Users\\\\KHAN\\\\Desktop\\\\supply\\\\inventory_data.csv\")\n",
    "order_df = pd.read_csv(\"C:\\\\Users\\\\KHAN\\\\Desktop\\\\supply\\\\order_data.csv\")\n",
    "supplier_df = pd.read_csv(\"C:\\\\Users\\\\KHAN\\\\Desktop\\\\supply\\\\supplier_data.csv\")\n",
    "transport_df = pd.read_csv(\"C:\\\\Users\\\\KHAN\\\\Desktop\\\\supply\\\\transport_data.csv\")\n",
    "cost_df = pd.read_csv(\"C:\\\\Users\\\\KHAN\\\\Desktop\\\\supply\\\\cost_data.csv\")\n"
   ]
  },
  {
   "cell_type": "code",
   "execution_count": 15,
   "id": "9df3af16",
   "metadata": {},
   "outputs": [],
   "source": [
    "# Inventory Data: Add fake date + warehouse from supplier\n",
    "inventory_df['date'] = pd.date_range(start='2024-01-01', periods=len(inventory_df), freq='D')\n",
    "\n",
    "# Load supplier data again to merge location as 'warehouse'\n",
    "supplier_info = supplier_df[['sku', 'location']].copy()\n",
    "inventory_df = pd.merge(inventory_df, supplier_info, on='sku', how='left')\n",
    "inventory_df.rename(columns={'location': 'warehouse'}, inplace=True)\n",
    "\n",
    "# Order Data: Add date + fake customer_id\n",
    "order_df['date'] = pd.date_range(start='2024-01-01', periods=len(order_df), freq='D')\n",
    "order_df['customer_id'] = ['CUST' + str(i).zfill(3) for i in range(len(order_df))]\n",
    "\n",
    "# Supplier Data: Add fake date\n",
    "supplier_df['date'] = pd.date_range(start='2024-01-01', periods=len(supplier_df), freq='D')\n",
    "\n",
    "# Transport Data: Add date + delivery_status\n",
    "transport_df['date'] = pd.date_range(start='2024-01-01', periods=len(transport_df), freq='D')\n",
    "transport_df['delivery_status'] = transport_df['shipping_times'].apply(lambda x: 'On Time' if x <= 3 else 'Delayed')\n",
    "\n",
    "# Cost Data: Convert to long format + add date\n",
    "cost_long_df = pd.melt(cost_df, id_vars=['sku'], \n",
    "                       value_vars=['costs', 'shipping_costs', 'manufacturing_costs'],\n",
    "                       var_name='cost_type', value_name='amount')\n",
    "cost_long_df['date'] = pd.date_range(start='2024-01-01', periods=len(cost_long_df), freq='D')\n"
   ]
  },
  {
   "cell_type": "code",
   "execution_count": 16,
   "id": "dd76b488",
   "metadata": {},
   "outputs": [],
   "source": [
    "inventory_df.to_csv(\"inventory_data.csv\", index=False)\n",
    "order_df.to_csv(\"order_data.csv\", index=False)\n",
    "supplier_df.to_csv(\"supplier_data.csv\", index=False)\n",
    "transport_df.to_csv(\"transport_data.csv\", index=False)\n",
    "cost_long_df.to_csv(\"cost_data.csv\", index=False)\n"
   ]
  },
  {
   "cell_type": "code",
   "execution_count": null,
   "id": "d6b5c3ae",
   "metadata": {},
   "outputs": [],
   "source": []
  }
 ],
 "metadata": {
  "kernelspec": {
   "display_name": "Python 3 (ipykernel)",
   "language": "python",
   "name": "python3"
  },
  "language_info": {
   "codemirror_mode": {
    "name": "ipython",
    "version": 3
   },
   "file_extension": ".py",
   "mimetype": "text/x-python",
   "name": "python",
   "nbconvert_exporter": "python",
   "pygments_lexer": "ipython3",
   "version": "3.11.4"
  }
 },
 "nbformat": 4,
 "nbformat_minor": 5
}
